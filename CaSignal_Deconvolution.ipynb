{
  "nbformat": 4,
  "nbformat_minor": 0,
  "metadata": {
    "colab": {
      "provenance": [],
      "authorship_tag": "ABX9TyMrIlwW8IMK91AZDOIX5ZeE",
      "include_colab_link": true
    },
    "kernelspec": {
      "name": "python3",
      "display_name": "Python 3"
    },
    "language_info": {
      "name": "python"
    }
  },
  "cells": [
    {
      "cell_type": "markdown",
      "metadata": {
        "id": "view-in-github",
        "colab_type": "text"
      },
      "source": [
        "<a href=\"https://colab.research.google.com/github/ww20hust/Colab/blob/main/CaSignal_Deconvolution.ipynb\" target=\"_parent\"><img src=\"https://colab.research.google.com/assets/colab-badge.svg\" alt=\"Open In Colab\"/></a>"
      ]
    },
    {
      "cell_type": "code",
      "execution_count": 1,
      "metadata": {
        "id": "tu5gmPORNOVC"
      },
      "outputs": [],
      "source": [
        "import numpy as np   \n",
        "import matplotlib.pyplot as plt"
      ]
    },
    {
      "cell_type": "code",
      "source": [
        "#产生一系列的脉冲峰值模拟真实的钙信号\n",
        "OriginalSignal = np.zeros(50)\n",
        "OriginalSignal[1]=1\n",
        "OriginalSignal[16]=1\n",
        "OriginalSignal[31]=1\n",
        "OriginalSignal[46]=1\n",
        "\n",
        "#产生负指数的卷积模板\n",
        "Kernel = np.exp(np.arange(0,-7,-0.7))\n",
        "#根据卷积定义手写卷积函数\n",
        "def convolution1D(Signal,kernel):\n",
        "    m = [0 for k in range(len(kernel)+len(Signal)-1)]\n",
        "    result = np.array(m,dtype=float)\n",
        "   \n",
        "    for i in range(len(kernel)):\n",
        "        for j in range(len(Signal)):\n",
        "            result[i+j] = result[i+j]+kernel[i]*Signal[j]\n",
        "    return result\n",
        "\n",
        "sample = convolution1D(OriginalSignal,Kernel)\n",
        "#添加噪声\n",
        "sample_withnoisy = sample + 0.2*abs((np.random.randn(59)))\n",
        "print(sample_withnoisy)\n",
        "x = np.arange(59)\n",
        "plt.subplot(413)\n",
        "plt.plot(x,   sample,   c='blue',  label='sample')  \n",
        "plt.subplot(414)\n",
        "plt.plot(x,   sample_withnoisy,   c='blue',  label='sample')\n",
        "plt.subplot(411)\n",
        "plt.stem(OriginalSignal)\n",
        "plt.subplot(412)\n",
        "plt.stem(Kernel)"
      ],
      "metadata": {
        "colab": {
          "base_uri": "https://localhost:8080/",
          "height": 458
        },
        "id": "XT2jagU1NepJ",
        "outputId": "0beb5d45-1835-4372-cdb2-3a3fe995e8c3"
      },
      "execution_count": 3,
      "outputs": [
        {
          "output_type": "stream",
          "name": "stdout",
          "text": [
            "[0.43261132 1.38665367 0.90780452 0.48001952 0.41089319 0.15791187\n",
            " 0.14683792 0.07750994 0.29832905 0.07821559 0.10347881 0.18845954\n",
            " 0.34849749 0.43614073 0.03194411 0.09944908 1.41552374 0.83975922\n",
            " 0.58037965 0.25690975 0.08016012 0.04192472 0.330142   0.42153314\n",
            " 0.57180948 0.0995274  0.47686241 0.30863194 0.4863326  0.58379895\n",
            " 0.0116889  1.2869293  0.53784007 0.25786266 0.1760516  0.26279203\n",
            " 0.10304825 0.37365828 0.07354547 0.09731287 0.24914585 0.03302713\n",
            " 0.02461855 0.15584798 0.05437425 0.15800333 1.05700991 0.56856907\n",
            " 0.37781555 0.14462989 0.45880325 0.18015621 0.26833682 0.29743661\n",
            " 0.32064113 0.16106596 0.28899748 0.05779852 0.25151158]\n"
          ]
        },
        {
          "output_type": "execute_result",
          "data": {
            "text/plain": [
              "<StemContainer object of 3 artists>"
            ]
          },
          "metadata": {},
          "execution_count": 3
        },
        {
          "output_type": "display_data",
          "data": {
            "text/plain": [
              "<Figure size 432x288 with 4 Axes>"
            ],
            "image/png": "[encoded data removed]"
          },
          "metadata": {
            "needs_background": "light"
          }
        }
      ]
    },
    {
      "cell_type": "code",
      "source": [
        "#根据采样得到的信号 并且已知卷积模板 求解输入信号。即由sample_noisy 和 Kernel求解 signal\n",
        "#利用最小二乘法求解逆卷积,先根据卷积核h,得到矩阵An\n",
        "An = np.zeros([59,50])\n",
        "for k in range(50):\n",
        "    for m in range(len(Kernel)):\n",
        "        An[m+k][k] = Kernel[m]\n",
        "print(An)\n",
        "#根据解析解公式进行逆卷积求解\n",
        "prediction_signal = np.dot(np.dot(np.linalg.inv(np.dot(An.T, An)),An.T),sample_withnoisy)\n",
        "\n",
        "#plt.plot(x,   sample,   c='blue',  label='sample')  \n",
        "plt.stem(prediction_signal)"
      ],
      "metadata": {
        "colab": {
          "base_uri": "https://localhost:8080/",
          "height": 404
        },
        "id": "9-pIOPdYNitV",
        "outputId": "2b52c236-33e8-4c01-e4ab-d83de9a1c0c3"
      },
      "execution_count": 4,
      "outputs": [
        {
          "output_type": "stream",
          "name": "stdout",
          "text": [
            "[[1.         0.         0.         ... 0.         0.         0.        ]\n",
            " [0.4965853  1.         0.         ... 0.         0.         0.        ]\n",
            " [0.24659696 0.4965853  1.         ... 0.         0.         0.        ]\n",
            " ...\n",
            " [0.         0.         0.         ... 0.0018363  0.00369786 0.00744658]\n",
            " [0.         0.         0.         ... 0.         0.0018363  0.00369786]\n",
            " [0.         0.         0.         ... 0.         0.         0.0018363 ]]\n"
          ]
        },
        {
          "output_type": "execute_result",
          "data": {
            "text/plain": [
              "<StemContainer object of 3 artists>"
            ]
          },
          "metadata": {},
          "execution_count": 4
        },
        {
          "output_type": "display_data",
          "data": {
            "text/plain": [
              "<Figure size 432x288 with 1 Axes>"
            ],
            "image/png": "[encoded data removed]"
          },
          "metadata": {
            "needs_background": "light"
          }
        }
      ]
    }
  ]
}