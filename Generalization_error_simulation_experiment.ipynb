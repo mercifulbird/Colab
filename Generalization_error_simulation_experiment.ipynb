{
  "nbformat": 4,
  "nbformat_minor": 0,
  "metadata": {
    "colab": {
      "provenance": [],
      "authorship_tag": "ABX9TyPz06e1rfh0gCCIW9GyddGQ",
      "include_colab_link": true
    },
    "kernelspec": {
      "name": "python3",
      "display_name": "Python 3"
    },
    "language_info": {
      "name": "python"
    }
  },
  "cells": [
    {
      "cell_type": "markdown",
      "metadata": {
        "id": "view-in-github",
        "colab_type": "text"
      },
      "source": [
        "<a href=\"https://colab.research.google.com/github/ww20hust/Colab/blob/main/Generalization_error_simulation_experiment.ipynb\" target=\"_parent\"><img src=\"https://colab.research.google.com/assets/colab-badge.svg\" alt=\"Open In Colab\"/></a>"
      ]
    },
    {
      "cell_type": "code",
      "execution_count": 1,
      "metadata": {
        "id": "oI3zFR8gXwv3"
      },
      "outputs": [],
      "source": [
        "import numpy as np\n",
        "#设置系统的全重，这是我们模拟的真实模型的参数，在现实世界中是不可观的，属于先验部分。\n",
        "w_real = np.array([2,1,4,3],dtype = float)\n",
        "# y_real = np.dot(input,w_real.T)\n",
        "# noisy = np.random.randn(len(input))\n",
        "# y_detect  = y_real + noisy"
      ]
    },
    {
      "cell_type": "code",
      "source": [
        "# 计划训练出j个权重模型，每个模型由i组样本得到\n",
        "j = 10000\n",
        "i = 800\n",
        "inputs = np.zeros((j,i,4))#三维数组来存储用于训练第j个模型的第i个样本输入,输入为4个维度.\n",
        "y_detects = np.zeros((j,i))#二维数组来存储第j个模型的第i个样本输入真实系统得到的输出观测值.\n",
        "w_predict = np.zeros((j,4))#用来后续存储第j个模型的训练权重\n",
        "for k in range(j):\n",
        "    inputs[k] = np.random.random((i,4))*20\n",
        "    noisy = np.random.randn(i)\n",
        "    y_detects[k] = np.dot(inputs[k],w_real.T) + noisy\n",
        "    #根据y_detects[k]和inputs[k]利用最小二乘法计算第k个预测权重\n",
        "    w_predict[k] = np.dot(np.dot(np.linalg.inv(np.dot(inputs[k].T, inputs[k])),inputs[k].T),y_detects[k])"
      ],
      "metadata": {
        "id": "8OSn59-kX5tx"
      },
      "execution_count": 2,
      "outputs": []
    },
    {
      "cell_type": "code",
      "source": [
        "#产生一个样本x,用于计算泛化误差\n",
        "x_input= np.random.random((1,4))*20\n",
        "noisy_x = np.random.randn(1)\n",
        "x_detect = np.dot(x_input,w_real.T) + noisy_x\n",
        "#对前面得到的j个权重模型分别输入x_input\n",
        "x_predict = np.dot(x_input,w_predict.T).reshape(j)\n",
        "#计算泛化误差\n",
        "general_error = np.dot(x_predict-x_detect,x_predict.T-x_detect.T)/j\n",
        "print(general_error)"
      ],
      "metadata": {
        "colab": {
          "base_uri": "https://localhost:8080/"
        },
        "id": "k9wOIWc2X9E2",
        "outputId": "94affc26-df91-44c4-925e-8fd98067718e"
      },
      "execution_count": 3,
      "outputs": [
        {
          "output_type": "stream",
          "name": "stdout",
          "text": [
            "0.002642949197131918\n"
          ]
        }
      ]
    }
  ]
}