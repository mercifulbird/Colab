{
 "cells": [
  {
   "attachments": {},
   "cell_type": "markdown",
   "metadata": {},
   "source": [
    "机器学习模拟实验1；泛化误差\n",
    "姓名：吴炜 \n",
    "学号：U202011837\n",
    "指导老师；全廷伟"
   ]
  },
  {
   "attachments": {},
   "cell_type": "markdown",
   "metadata": {},
   "source": [
    "STEP1：从先验的视角制作一个系统\n",
    "（注意：该系统在现实处理工程问题时候，对于我们是一个盲盒，这里这么做只是为了模拟实验的需要）\n",
    "假定真实系统的输入数据为四个维度（x1,x2,x3,x4）\n",
    "    系统结构为 yD = w1*x1 + w2*x2 + w3*x3 + w4*x4 + ε\n",
    "    其中ε符合正态分布\n",
    "    真实值 yreal = w1*x1 + w2*x2 + w3*x3 + w4*x4\n",
    "    观测值 yD = yreal + ε\n",
    "    因此我们可以得到每一条数据为  （x1,x2,x3,x4,yD）"
   ]
  },
  {
   "cell_type": "code",
   "execution_count": 820,
   "metadata": {},
   "outputs": [],
   "source": [
    "\n",
    "import numpy as np\n",
    "#设置系统的全重，这是我们模拟的真实模型的参数，在现实世界中是不可观的，属于先验部分。\n",
    "w_real = np.array([2,1,4,3],dtype = float)\n",
    "# y_real = np.dot(input,w_real.T)\n",
    "# noisy = np.random.randn(len(input))\n",
    "# y_detect  = y_real + noisy\n"
   ]
  },
  {
   "cell_type": "code",
   "execution_count": 821,
   "metadata": {},
   "outputs": [],
   "source": [
    "# 计划训练出j个权重模型，每个模型由i组样本得到\n",
    "j = 10000\n",
    "i = 800\n",
    "inputs = np.zeros((j,i,4))#三维数组来存储用于训练第j个模型的第i个样本输入,输入为4个维度.\n",
    "y_detects = np.zeros((j,i))#二维数组来存储第j个模型的第i个样本输入真实系统得到的输出观测值.\n",
    "w_predict = np.zeros((j,4))#用来后续存储第j个模型的训练权重\n",
    "for k in range(j):\n",
    "    inputs[k] = np.random.random((i,4))*20\n",
    "    noisy = np.random.randn(i)\n",
    "    y_detects[k] = np.dot(inputs[k],w_real.T) + noisy\n",
    "    #根据y_detects[k]和inputs[k]利用最小二乘法计算第k个预测权重\n",
    "    w_predict[k] = np.dot(np.dot(np.linalg.inv(np.dot(inputs[k].T, inputs[k])),inputs[k].T),y_detects[k])\n"
   ]
  },
  {
   "cell_type": "code",
   "execution_count": 822,
   "metadata": {},
   "outputs": [
    {
     "name": "stdout",
     "output_type": "stream",
     "text": [
      "0.9273338436583747\n"
     ]
    }
   ],
   "source": [
    "#产生一个样本x,用于计算泛化误差\n",
    "x_input= np.random.random((1,4))*20\n",
    "noisy_x = np.random.randn(1)\n",
    "x_detect = np.dot(x_input,w_real.T) + noisy_x\n",
    "#对前面得到的j个权重模型分别输入x_input\n",
    "x_predict = np.dot(x_input,w_predict.T).reshape(j)\n",
    "#计算泛化误差\n",
    "general_error = np.dot(x_predict-x_detect,x_predict.T-x_detect.T)/j\n",
    "print(general_error)"
   ]
  }
 ],
 "metadata": {
  "kernelspec": {
   "display_name": "pytorch",
   "language": "python",
   "name": "python3"
  },
  "language_info": {
   "codemirror_mode": {
    "name": "ipython",
    "version": 3
   },
   "file_extension": ".py",
   "mimetype": "text/x-python",
   "name": "python",
   "nbconvert_exporter": "python",
   "pygments_lexer": "ipython3",
   "version": "3.7.15"
  },
  "orig_nbformat": 4,
  "vscode": {
   "interpreter": {
    "hash": "0747f93ff6db21b2db2bf35ad4858dd0825b9c21797c41b4cc32097944ab3f10"
   }
  }
 },
 "nbformat": 4,
 "nbformat_minor": 2
}
